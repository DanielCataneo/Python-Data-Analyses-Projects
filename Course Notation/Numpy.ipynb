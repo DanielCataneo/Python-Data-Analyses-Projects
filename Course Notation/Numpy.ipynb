{
  "nbformat": 4,
  "nbformat_minor": 0,
  "metadata": {
    "colab": {
      "provenance": [],
      "authorship_tag": "ABX9TyNNwQvmO8xTb5UYtWepVyAT",
      "include_colab_link": true
    },
    "kernelspec": {
      "name": "python3",
      "display_name": "Python 3"
    },
    "language_info": {
      "name": "python"
    }
  },
  "cells": [
    {
      "cell_type": "markdown",
      "metadata": {
        "id": "view-in-github",
        "colab_type": "text"
      },
      "source": [
        "<a href=\"https://colab.research.google.com/github/DanielCataneo/Python_DataAnalysesProjects/blob/main/Course%20Notation/Numpy.ipynb\" target=\"_parent\"><img src=\"https://colab.research.google.com/assets/colab-badge.svg\" alt=\"Open In Colab\"/></a>"
      ]
    },
    {
      "cell_type": "markdown",
      "source": [
        "**CRIANDO ARRAYS COM NUMPY**\n",
        "\n"
      ],
      "metadata": {
        "id": "c5CiJB1uOSas"
      }
    },
    {
      "cell_type": "code",
      "execution_count": null,
      "metadata": {
        "id": "Dqu_n_DY0odf",
        "colab": {
          "base_uri": "https://localhost:8080/"
        },
        "outputId": "f2740bb5-195a-45aa-ab07-1b8addf987b8"
      },
      "outputs": [
        {
          "output_type": "stream",
          "name": "stdout",
          "text": [
            "[1, 2, 3, 4, 5]\n",
            "\n",
            "Numpy\n",
            "[1 2 3 4 5]\n"
          ]
        }
      ],
      "source": [
        "import sys\n",
        "import numpy as np\n",
        "\n",
        "a = [1,2,3,4,5]\n",
        "b = np.array([1,2,3,4,5])\n",
        "\n",
        "print(a)\n",
        "\n",
        "print()\n",
        "print('Numpy')\n",
        "print(b)"
      ]
    },
    {
      "cell_type": "code",
      "source": [
        "# Verificando Tamanho de duas arrays\n",
        "\n",
        "sys.getsizeof(a)\n"
      ],
      "metadata": {
        "colab": {
          "base_uri": "https://localhost:8080/"
        },
        "id": "NZNz4HgkPY2k",
        "outputId": "eefb8488-feb4-4437-ce5d-55964f77b0df"
      },
      "execution_count": null,
      "outputs": [
        {
          "output_type": "execute_result",
          "data": {
            "text/plain": [
              "104"
            ]
          },
          "metadata": {},
          "execution_count": 8
        }
      ]
    },
    {
      "cell_type": "code",
      "source": [
        "# Numpy muito mais leve\n",
        "b.nbytes"
      ],
      "metadata": {
        "colab": {
          "base_uri": "https://localhost:8080/"
        },
        "id": "Wnsg5zMtPnCT",
        "outputId": "3a3c3934-5b1a-4425-958f-1dc6f9a94631"
      },
      "execution_count": null,
      "outputs": [
        {
          "output_type": "execute_result",
          "data": {
            "text/plain": [
              "40"
            ]
          },
          "metadata": {},
          "execution_count": 9
        }
      ]
    },
    {
      "cell_type": "markdown",
      "source": [
        "**CRIANDO ARRAYS 1D 2D 3D**"
      ],
      "metadata": {
        "id": "N7fLGSDLP2IU"
      }
    },
    {
      "cell_type": "code",
      "source": [
        "# 1D\n",
        "\n",
        "D1 = np.array([1,2,3])\n",
        "print(D1)\n",
        "\n",
        "# Dimensoes\n",
        "D1.ndim"
      ],
      "metadata": {
        "colab": {
          "base_uri": "https://localhost:8080/"
        },
        "id": "mpxZL1-vP6jc",
        "outputId": "a2d4c886-1603-44d4-d918-6bd9cfe90bba"
      },
      "execution_count": null,
      "outputs": [
        {
          "output_type": "stream",
          "name": "stdout",
          "text": [
            "[1 2 3]\n"
          ]
        },
        {
          "output_type": "execute_result",
          "data": {
            "text/plain": [
              "1"
            ]
          },
          "metadata": {},
          "execution_count": 13
        }
      ]
    },
    {
      "cell_type": "code",
      "source": [
        "# 2D\n",
        "\n",
        "D2 = np.array([[1,2,3],[4,5,6]])\n",
        "print(D2)\n",
        "\n",
        "# Formato\n",
        "D2.shape"
      ],
      "metadata": {
        "colab": {
          "base_uri": "https://localhost:8080/"
        },
        "id": "ick9krhOQUYE",
        "outputId": "3f33965f-42c0-4eb0-9b63-4f2179ceeca1",
        "collapsed": true
      },
      "execution_count": null,
      "outputs": [
        {
          "output_type": "stream",
          "name": "stdout",
          "text": [
            "[[1 2 3]\n",
            " [4 5 6]]\n"
          ]
        },
        {
          "output_type": "execute_result",
          "data": {
            "text/plain": [
              "(2, 3)"
            ]
          },
          "metadata": {},
          "execution_count": 15
        }
      ]
    },
    {
      "cell_type": "code",
      "source": [
        "# 3D\n",
        "                  # UM ARRAY            OUTRO ARRAY\n",
        "D3 = np.array([[[1,2,3],[4,5,6]], [[7,8,9],[10,11,12]]])\n",
        "print(D3)\n",
        "\n",
        "# Formato\n",
        "D3.shape"
      ],
      "metadata": {
        "colab": {
          "base_uri": "https://localhost:8080/"
        },
        "id": "3eOBl_wYQmTl",
        "outputId": "d2f7f7f9-763c-490b-a883-ff982dcee993",
        "collapsed": true
      },
      "execution_count": null,
      "outputs": [
        {
          "output_type": "stream",
          "name": "stdout",
          "text": [
            "[[[ 1  2  3]\n",
            "  [ 4  5  6]]\n",
            "\n",
            " [[ 7  8  9]\n",
            "  [10 11 12]]]\n"
          ]
        },
        {
          "output_type": "execute_result",
          "data": {
            "text/plain": [
              "(2, 2, 3)"
            ]
          },
          "metadata": {},
          "execution_count": 16
        }
      ]
    },
    {
      "cell_type": "markdown",
      "source": [
        "**SOMANDO ARRAYS**"
      ],
      "metadata": {
        "id": "KnEoQP2TQ6jM"
      }
    },
    {
      "cell_type": "code",
      "source": [
        "# Listas\n",
        "a = [2,3,4]\n",
        "b = [2,3,4]\n",
        "\n",
        "# Apenas concatena\n",
        "result = a + b\n",
        "print(result)\n",
        "\n",
        "# Numpy Arrays\n",
        "a = np.array([1,2,3])\n",
        "b = np.array([1,2,3])\n",
        "\n",
        "# Soma os indexs\n",
        "result = a + b\n",
        "print(result)\n",
        "\n",
        "# Escrita alternativa\n",
        "result = np.add(a , b)"
      ],
      "metadata": {
        "colab": {
          "base_uri": "https://localhost:8080/"
        },
        "id": "ZS_S3cEvQ9GN",
        "outputId": "26bae8aa-3a1c-4066-8b0b-dec5e9b01813",
        "collapsed": true
      },
      "execution_count": null,
      "outputs": [
        {
          "output_type": "stream",
          "name": "stdout",
          "text": [
            "[2, 3, 4, 2, 3, 4]\n",
            "[2 4 6]\n"
          ]
        }
      ]
    },
    {
      "cell_type": "markdown",
      "source": [
        "**SELECIONANDO ITENS EM ARRAYS**"
      ],
      "metadata": {
        "id": "nHD_JsbOB7B4"
      }
    },
    {
      "cell_type": "code",
      "source": [
        "A = np.array([[2,3,'R$19.90',5], [6,7,'Apple',9]])\n",
        "\n",
        "print(A)"
      ],
      "metadata": {
        "colab": {
          "base_uri": "https://localhost:8080/"
        },
        "collapsed": true,
        "id": "NJ4KDnrgB-_y",
        "outputId": "8eec0dfb-bea7-49e4-e1c2-e26b8ebe3a89"
      },
      "execution_count": null,
      "outputs": [
        {
          "output_type": "stream",
          "name": "stdout",
          "text": [
            "[['2' '3' 'R$19.90' '5']\n",
            " ['6' '7' 'Apple' '9']]\n"
          ]
        }
      ]
    },
    {
      "cell_type": "code",
      "source": [
        "# Array[row,column]\n",
        "A[1,2]"
      ],
      "metadata": {
        "colab": {
          "base_uri": "https://localhost:8080/",
          "height": 34
        },
        "collapsed": true,
        "id": "ilhfxdl2CVvy",
        "outputId": "3adfea26-5e0c-4043-a964-2043eadb2840"
      },
      "execution_count": null,
      "outputs": [
        {
          "output_type": "execute_result",
          "data": {
            "text/plain": [
              "np.str_('Apple')"
            ],
            "application/vnd.google.colaboratory.intrinsic+json": {
              "type": "string"
            }
          },
          "metadata": {},
          "execution_count": 19
        }
      ]
    },
    {
      "cell_type": "code",
      "source": [
        "# Somente a primeira linha\n",
        "A[:,2]"
      ],
      "metadata": {
        "colab": {
          "base_uri": "https://localhost:8080/"
        },
        "collapsed": true,
        "id": "5_t6RJSNC_31",
        "outputId": "d27adbf2-578f-437b-e092-50237d809305"
      },
      "execution_count": null,
      "outputs": [
        {
          "output_type": "execute_result",
          "data": {
            "text/plain": [
              "array(['R$19.90', 'Apple'], dtype='<U21')"
            ]
          },
          "metadata": {},
          "execution_count": 21
        }
      ]
    }
  ]
}